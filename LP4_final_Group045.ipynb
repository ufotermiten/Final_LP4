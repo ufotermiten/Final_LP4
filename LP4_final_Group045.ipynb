{
 "cells": [
  {
   "cell_type": "markdown",
   "id": "442c74db",
   "metadata": {},
   "source": [
    "Before you turn this problem in, make sure everything runs as expected. First, **restart the kernel** (in the menubar, select Kernel$\\rightarrow$Restart) and then **run all cells** (in the menubar, select Cell$\\rightarrow$Run All).\n",
    "\n",
    "Make sure you fill in any place that says `YOUR CODE HERE` or \"YOUR ANSWER HERE\", \n",
    "as well as your name(s) and group number in the cell below:"
   ]
  },
  {
   "cell_type": "code",
   "execution_count": null,
   "id": "5b37a78a",
   "metadata": {},
   "outputs": [],
   "source": [
    "NAMES = \"\"                # fill in your name(s) between the quotes, comma separated if more than one\n",
    "GROUP = \"\"                # fill in your group number between the quotes"
   ]
  },
  {
   "cell_type": "markdown",
   "id": "cb22c627",
   "metadata": {},
   "source": [
    "---"
   ]
  },
  {
   "cell_type": "markdown",
   "id": "74367698-bd4b-46ab-a033-b38d7bfb6192",
   "metadata": {
    "deletable": false,
    "editable": false,
    "nbgrader": {
     "cell_type": "markdown",
     "checksum": "7569799da289187413c722585702b5b4",
     "grade": false,
     "grade_id": "cell-f759f41221d8df13",
     "locked": true,
     "schema_version": 3,
     "solution": false,
     "task": false
    }
   },
   "source": [
    "# LP4 Finals"
   ]
  },
  {
   "cell_type": "markdown",
   "id": "d99a708b-7b60-4db4-9e64-7ab1634673cc",
   "metadata": {
    "deletable": false,
    "editable": false,
    "nbgrader": {
     "cell_type": "markdown",
     "checksum": "a12ac53f34aea403428d04d75cada4fa",
     "grade": false,
     "grade_id": "cell-ddba1b78d06ecc9a",
     "locked": true,
     "schema_version": 3,
     "solution": false,
     "task": false
    },
    "tags": []
   },
   "source": [
    "# Problem 1 (10 pt): Errors\n",
    "\n",
    "As you have seen during the lectures and exercises, sometimes it is best to rewrite functions to avoid for example catastrophic cancellation. \n",
    "Rewrite the following expressions in order to evaluate them for large values of $x$. \n",
    "\n",
    "1) $\\bf \\sqrt{x+1}-\\sqrt{x}$\n",
    "\n",
    "2) $\\bf {1\\over{x+1}} - {2\\over{x}} + {1\\over{x-1}}$\n",
    "\n",
    "3) $\\bf {1\\over{\\sqrt{x}}} - {1\\over{\\sqrt{x+1}}}$\n",
    "\n",
    "- Define and test the before and after functions in python.\n",
    "- Plot the three functions in a three panel plot for the range ${\\bf xs}$ defined below. Do not forget to import the required packages."
   ]
  },
  {
   "cell_type": "code",
   "execution_count": null,
   "id": "e943ab78-d942-464d-82cf-ef312aeffc47",
   "metadata": {
    "deletable": false,
    "nbgrader": {
     "cell_type": "code",
     "checksum": "5e72ac52097a77e545764236acfe27be",
     "grade": false,
     "grade_id": "cell-9196338850204915",
     "locked": false,
     "schema_version": 3,
     "solution": true,
     "task": false
    }
   },
   "outputs": [],
   "source": [
    "import sys\n",
    "large = sys.maxsize\n",
    "xs=[2.**i*large for i in range(-55,5)]\n",
    "\n",
    "# YOUR CODE HERE\n",
    "raise NotImplementedError()"
   ]
  },
  {
   "cell_type": "markdown",
   "id": "3d8ad926-7033-4165-a5cf-0b7081a4c6ca",
   "metadata": {
    "deletable": false,
    "editable": false,
    "nbgrader": {
     "cell_type": "markdown",
     "checksum": "0cf65e7fe31b7ce58f5874064b579f72",
     "grade": false,
     "grade_id": "cell-00a36585f77f6f52",
     "locked": true,
     "schema_version": 3,
     "solution": false,
     "task": false
    },
    "tags": []
   },
   "source": [
    "# Problem 2: Differentiation\n",
    "\n",
    "You have a data set of the following values $\\bf V=[1,4,6]$ for a measured volume of water (in liters) at $\\bf t=[1,2,5]$. You want to estimate the rate of change $\\bf q$ in your volume of water at $\\bf t=2$ (meaning that you want to determine the derivative $\\bf q=dV/dt$ at time $\\bf t=2$).\n",
    "\n",
    "## Problem 2a (6 pt):\n",
    "\n",
    "- Estimate, **without using ```np.gradient```**, the value for $\\bf q(t=2)$. Use the information in all three data points (so for all three times $\\bf t=[1,2,5]$) to get the best estimate of $\\bf q$. Write the analytical formula you used in a Markdown Box and implement it in a function that can take the arrays of data and time as an input.\n",
    "\n",
    "[Hint: as you can see, the spacing in time is not equal. By using a *weighted* combination of the forward and backward methods (similar to our derivation of the central method, where we took the unweighted average), you can derive a function for the approximation of $\\bf q$ ($\\bf \\tilde q$) that depends on $\\bf V(t=1), V(t=2), $and $\\bf V(t=5)$.]\n",
    "\n",
    "- Then include in your code the forward method to approximate the value of $\\bf q$ at $\\bf t=1$ and the backward method to approximate $\\bf q$ at $\\bf t=5$"
   ]
  },
  {
   "cell_type": "markdown",
   "id": "f1bf06c1-93cf-48d9-a514-f850fbdc39ad",
   "metadata": {
    "deletable": false,
    "nbgrader": {
     "cell_type": "markdown",
     "checksum": "4bc70c444fd814dff1acb179c0852b9a",
     "grade": true,
     "grade_id": "cell-714377cb3694b60f",
     "locked": false,
     "points": 0,
     "schema_version": 3,
     "solution": true,
     "task": false
    }
   },
   "source": [
    "YOUR ANSWER HERE"
   ]
  },
  {
   "cell_type": "code",
   "execution_count": null,
   "id": "b8276305-21cf-4e57-b95f-1f95fdd7698d",
   "metadata": {
    "deletable": false,
    "nbgrader": {
     "cell_type": "code",
     "checksum": "1ea42995e8317021ae1fe4c4bc723f26",
     "grade": false,
     "grade_id": "cell-32e506ceea71e0a7",
     "locked": false,
     "schema_version": 3,
     "solution": true,
     "task": false
    }
   },
   "outputs": [],
   "source": [
    "import numpy as np\n",
    "data=np.array([1,4,6])\n",
    "t=np.array([1,2,5])\n",
    "\n",
    "# YOUR CODE HERE\n",
    "raise NotImplementedError()"
   ]
  },
  {
   "cell_type": "markdown",
   "id": "2b88d2de-9046-4731-b7c1-c5b6388b42e3",
   "metadata": {
    "deletable": false,
    "editable": false,
    "nbgrader": {
     "cell_type": "markdown",
     "checksum": "3aa3011d50142dbca30c39f119766790",
     "grade": false,
     "grade_id": "cell-ba3904b80c7f7184",
     "locked": true,
     "schema_version": 3,
     "solution": false,
     "task": false
    }
   },
   "source": [
    "## Problem 2b (3 pt):\n",
    "\n",
    "- Then calculate $q$ using ```np.gradient``` and check how close your result is to the best approximation (the result should be $2.4166$ using np.gradient; you might have been able to reproduce this exactly, but if your approximation is between $1.8$ and $3.0$ it is good enough).\n",
    "- If there is a difference between your result and the result from ```np.gradient``` explain why you think there is a difference (also if your result is still between 1.8 and 3.0!).\n"
   ]
  },
  {
   "cell_type": "code",
   "execution_count": null,
   "id": "dcdad7a4-9ccb-4ba9-95fd-b5e81cc15f2f",
   "metadata": {
    "deletable": false,
    "nbgrader": {
     "cell_type": "code",
     "checksum": "618bb28f8fe6a2a6b1e0fd2829b12c7b",
     "grade": false,
     "grade_id": "cell-fa7f317d5b620c66",
     "locked": false,
     "schema_version": 3,
     "solution": true,
     "task": false
    }
   },
   "outputs": [],
   "source": [
    "# YOUR CODE HERE\n",
    "raise NotImplementedError()"
   ]
  },
  {
   "cell_type": "markdown",
   "id": "9d4e8445-9407-4340-91fd-f27559ef9929",
   "metadata": {
    "deletable": false,
    "nbgrader": {
     "cell_type": "markdown",
     "checksum": "038379464282c2a831f3f29e46fd1a1b",
     "grade": true,
     "grade_id": "cell-0493cc6a49e82e8b",
     "locked": false,
     "points": 0,
     "schema_version": 3,
     "solution": true,
     "task": false
    }
   },
   "source": [
    "YOUR ANSWER HERE"
   ]
  },
  {
   "cell_type": "markdown",
   "id": "9d2ea642-49e5-4b15-b1af-e18ca868478c",
   "metadata": {
    "deletable": false,
    "editable": false,
    "nbgrader": {
     "cell_type": "markdown",
     "checksum": "0d778a12fb991239ad6bd3e6b91c6f9e",
     "grade": false,
     "grade_id": "cell-6adcb7ec225e00c1",
     "locked": true,
     "schema_version": 3,
     "solution": false,
     "task": false
    }
   },
   "source": [
    "## Problem 2c (5 pt):\n",
    "- Finally, using ```matplotlib```, make a plot of the three data points and also draw the tangent (the straight line that touches the data point with a slope equal to the derivative) for the three points derived with ```np.gradient``` and with your own method in 2a."
   ]
  },
  {
   "cell_type": "code",
   "execution_count": null,
   "id": "02847acb-87f3-49f9-ba3a-a782c9681d23",
   "metadata": {
    "deletable": false,
    "nbgrader": {
     "cell_type": "code",
     "checksum": "e8b514f4783a593bf99d9d3f545fbd2b",
     "grade": false,
     "grade_id": "cell-4c61e1c0ecfc696f",
     "locked": false,
     "schema_version": 3,
     "solution": true,
     "task": false
    }
   },
   "outputs": [],
   "source": [
    "# YOUR CODE HERE\n",
    "raise NotImplementedError()"
   ]
  },
  {
   "cell_type": "markdown",
   "id": "f8f9577f-9b63-4d74-a590-ec3bbcae920e",
   "metadata": {
    "deletable": false,
    "editable": false,
    "nbgrader": {
     "cell_type": "markdown",
     "checksum": "247d2c6445e277a2cec890fe1106db3e",
     "grade": false,
     "grade_id": "cell-55884d6b7e5561c8",
     "locked": true,
     "schema_version": 3,
     "solution": false,
     "task": false
    },
    "tags": []
   },
   "source": [
    "# Problem 3: Solving systems of linear equations\n",
    "\n",
    "This problem is about saving memory needs while doing LU-decomposition.\n",
    "\n",
    "## Problem 3a (6 pt):\n",
    "The LU-decomposition returns two matrices $\\pmb{L}$ and $\\pmb{U}$. To save some memory, these lower and upper triangular matrices could be stored into one single matrix $\\pmb{M}$ (note that the ones in the diagonal of $\\pmb{L}$ are not in $\\pmb{M}$ anymore).\n",
    "\n",
    "$$\n",
    "\\textrm{Instead of storing }\\pmb{L}=\n",
    "\\begin{pmatrix}\n",
    "1 & 0 & 0 & 0\\\\\n",
    "L & 1 & 0 & 0\\\\\n",
    "L & L & 1 & 0\\\\\n",
    "L & L & L& 1\\\\\n",
    "\\end{pmatrix}\n",
    "\\textrm{ and } \\pmb{U}=\n",
    "\\begin{pmatrix}\n",
    "U & U & U & U\\\\\n",
    "0 & U & U & U\\\\\n",
    "0 & 0 & U & U\\\\\n",
    "0 & 0 & 0 & U\\\\\n",
    "\\end{pmatrix}\n",
    "\\textrm{ we only store } \\pmb{M}=\n",
    "\\begin{pmatrix}\n",
    "U & U & U & U\\\\\n",
    "L & U & U & U\\\\\n",
    "L & L & U & U\\\\\n",
    "L & L & L & U\\\\\n",
    "\\end{pmatrix}\n",
    "$$\n",
    "\n",
    "Modify the LU-decomposition function ```ludec``` seen in the lecture so that it returns only one matrix $\\pmb{M}$. Creating $\\pmb{L}$ and $\\pmb{U}$ separately and just merging them together into $\\pmb{M}$ is not accepted. Ensure that your $\\pmb{M}$ matrix is indeed a combination of $\\pmb{L}$ and $\\pmb{U}$ obtained with the orignal ```ludec``` function."
   ]
  },
  {
   "cell_type": "code",
   "execution_count": null,
   "id": "3b587a3f-aafb-416a-8730-2eb8b9e6db80",
   "metadata": {
    "deletable": false,
    "nbgrader": {
     "cell_type": "code",
     "checksum": "3d82b94cc70dee4e65c1dde2ec52d406",
     "grade": false,
     "grade_id": "cell-28ade5daf9e42844",
     "locked": false,
     "schema_version": 3,
     "solution": true,
     "task": false
    }
   },
   "outputs": [],
   "source": [
    "# Matrix creation\n",
    "def testcreate(n,val):\n",
    "    A = np.arange(val,val+n*n).reshape(n,n)\n",
    "    A = np.sqrt(A)\n",
    "    bs = (A[0,:])**2.1\n",
    "    return A, bs\n",
    "A, _ = testcreate(4, 21)\n",
    "\n",
    "# 3a\n",
    "# YOUR CODE HERE\n",
    "raise NotImplementedError()"
   ]
  },
  {
   "cell_type": "markdown",
   "id": "f1790825-a883-4f1c-988e-bc81e5d654cb",
   "metadata": {
    "deletable": false,
    "editable": false,
    "nbgrader": {
     "cell_type": "markdown",
     "checksum": "938b22f93cff67cad181cae33338146f",
     "grade": false,
     "grade_id": "cell-79389c7a252fae0d",
     "locked": true,
     "schema_version": 3,
     "solution": false,
     "task": false
    }
   },
   "source": [
    "## Problem 3b (5 pt):\n",
    "Now write a function to solve a system of linear equations using your modified LU-decomposition, thus handling a single $\\pmb{M}$ matrix. This function is a modified version of ```lusolve```, seen in the lecture."
   ]
  },
  {
   "cell_type": "code",
   "execution_count": null,
   "id": "d7d6b427-3894-4a28-8edd-8b1ac01ca173",
   "metadata": {
    "deletable": false,
    "nbgrader": {
     "cell_type": "code",
     "checksum": "a97bbb77bf2c3df254e979323fd7a7f2",
     "grade": false,
     "grade_id": "cell-e992c080d08d953b",
     "locked": false,
     "schema_version": 3,
     "solution": true,
     "task": false
    }
   },
   "outputs": [],
   "source": [
    "# 3b\n",
    "# YOUR CODE HERE\n",
    "raise NotImplementedError()"
   ]
  },
  {
   "cell_type": "markdown",
   "id": "3dc20977-e780-4824-9bf9-accfc8d6e206",
   "metadata": {
    "deletable": false,
    "editable": false,
    "nbgrader": {
     "cell_type": "markdown",
     "checksum": "acbabe50dd9372a89955d7b69515df3d",
     "grade": false,
     "grade_id": "cell-e7036fe7befe1168",
     "locked": true,
     "schema_version": 3,
     "solution": false,
     "task": false
    }
   },
   "source": [
    "## Problem 3c (4 pt):\n",
    "Test your function on the given system $\\pmb{Ax}=\\pmb{b}$. Compare your results with those obtained with the appropriate numpy function."
   ]
  },
  {
   "cell_type": "code",
   "execution_count": null,
   "id": "54b28e57-2e8f-4f5a-a437-68c2f7a6a0ce",
   "metadata": {
    "deletable": false,
    "nbgrader": {
     "cell_type": "code",
     "checksum": "84aca6e35f18c2c7238338cdd9fe1046",
     "grade": false,
     "grade_id": "cell-9ac55003aa37594e",
     "locked": false,
     "schema_version": 3,
     "solution": true,
     "task": false
    }
   },
   "outputs": [],
   "source": [
    "# 3c\n",
    "A, b = testcreate(4, 21)  # the A and b in Ax = b\n",
    "# YOUR CODE HERE\n",
    "raise NotImplementedError()"
   ]
  },
  {
   "cell_type": "markdown",
   "id": "8e066f9f-b1f9-434c-bce2-1f24b4c29ed7",
   "metadata": {
    "deletable": false,
    "editable": false,
    "nbgrader": {
     "cell_type": "markdown",
     "checksum": "fb5ee724aea7cdd97bf3cd719a17d8f5",
     "grade": false,
     "grade_id": "cell-b6d4adf1885ea1f5",
     "locked": true,
     "schema_version": 3,
     "solution": false,
     "task": false
    },
    "tags": []
   },
   "source": [
    "# Problem 4: Eigenproblems\n",
    "In the lecture on eigenvalues, we've seen that the _Gram-Schmidt_ algorithm used in QR-decomposition had a particular flaw, due to high sensitivity to numerical errors.\n",
    "Below we introduce the _modified Gram-Schmidt_ python implementation, which solves that issue:\n",
    "``` Python\n",
    "for i in range(n):\n",
    "    R[i,i] = mag(Ap[:,i])\n",
    "    Q[:,i] = Ap[:,i]/R[i,i]\n",
    "    for j in range(i+1,n):\n",
    "        R[i,j] = np.sum(Q[:,i]*Ap[:,j])\n",
    "        Ap[:,j] -= R[i,j]*Q[:,i]\n",
    "        \n",
    "# with:\n",
    "# n is the number of rows/columns of the matrix A being QR-decomposed\n",
    "# Ap is the matrix of a' vectors (similar concept a for the classical QR-decomposition)\n",
    "# Q and R are the results of the QR-decomposition A = Q.R\n",
    "```\n",
    "## Problem 4a (3 pt): \n",
    "Write the function ```qrdecmod``` using the _modified Gram-Schmidt_ python implementation shown above."
   ]
  },
  {
   "cell_type": "code",
   "execution_count": null,
   "id": "6fc9b453-6bb0-48d4-94d0-799a31c17324",
   "metadata": {
    "deletable": false,
    "nbgrader": {
     "cell_type": "code",
     "checksum": "ea4ae8dcacbfd9737a9c6d09bce3f0b0",
     "grade": false,
     "grade_id": "cell-fbc30ae4a47114d8",
     "locked": false,
     "schema_version": 3,
     "solution": true,
     "task": false
    }
   },
   "outputs": [],
   "source": [
    "# qrdec will be used for reference and comparison\n",
    "def qrdec(A):\n",
    "    n = A.shape[0]\n",
    "    Ap = np.copy(A)\n",
    "    Q = np.zeros((n,n))\n",
    "    R = np.zeros((n,n))\n",
    "\n",
    "    for j in range(n):\n",
    "        for i in range(j):\n",
    "            R[i,j] = np.sum(Q[:,i]*A[:,j])\n",
    "            Ap[:,j] -= R[i,j]*Q[:,i]\n",
    "\n",
    "        R[j,j] = np.linalg.norm(Ap[:,j])\n",
    "        Q[:,j] = Ap[:,j]/R[j,j]\n",
    "\n",
    "    return Q, R\n",
    "\n",
    "# 4a\n",
    "# Modify qrdec above by using the modified Gram-Schmidt algorithm\n",
    "# YOUR CODE HERE\n",
    "raise NotImplementedError()"
   ]
  },
  {
   "cell_type": "markdown",
   "id": "6c50334d-1aa1-41f9-902c-28bb9417e99f",
   "metadata": {
    "deletable": false,
    "editable": false,
    "nbgrader": {
     "cell_type": "markdown",
     "checksum": "463d4e9e41018531a8c816cdc0f3c730",
     "grade": false,
     "grade_id": "cell-3a0a6ba1014800da",
     "locked": true,
     "schema_version": 3,
     "solution": false,
     "task": false
    }
   },
   "source": [
    "## Problem 4b (3 pt):\n",
    "Use again ```testcreate(4, 21)``` from the previous exercises to create a $4 \\times 4$ matrix $\\pmb{A}$ and QR-decompose it using ```qrdec``` and ```qrdecmod```. "
   ]
  },
  {
   "cell_type": "code",
   "execution_count": null,
   "id": "78a32740-b340-437a-b9ef-40a41d02188b",
   "metadata": {
    "deletable": false,
    "nbgrader": {
     "cell_type": "code",
     "checksum": "d2865e7eef357fd8a954726b1451e0d1",
     "grade": false,
     "grade_id": "cell-990db378a78988d6",
     "locked": false,
     "schema_version": 3,
     "solution": true,
     "task": false
    }
   },
   "outputs": [],
   "source": [
    "# 4b\n",
    "# YOUR CODE HERE\n",
    "raise NotImplementedError()"
   ]
  },
  {
   "cell_type": "markdown",
   "id": "1c66b801-0480-422e-9ecf-61607a79485d",
   "metadata": {
    "deletable": false,
    "editable": false,
    "nbgrader": {
     "cell_type": "markdown",
     "checksum": "c5ebf73e8f28e6a00fbd0c16bf9e21d4",
     "grade": false,
     "grade_id": "cell-8a9cb014d7e8d260",
     "locked": true,
     "schema_version": 3,
     "solution": false,
     "task": false
    },
    "tags": []
   },
   "source": [
    "## Problem 4c (4 pt):\n",
    "- Recall the flaw of the _Gram-Schmidt_ algorithm?\n",
    "- Using your results from the previous questions, show that the _modified Gram-Schmidt_ handles that flaw better."
   ]
  },
  {
   "cell_type": "code",
   "execution_count": null,
   "id": "132c0581-9aa5-4686-a6ec-17ee6d1186bb",
   "metadata": {
    "deletable": false,
    "nbgrader": {
     "cell_type": "code",
     "checksum": "4d312fb8c9e6a4f21c55878e8333e910",
     "grade": false,
     "grade_id": "cell-36f01e70daa30549",
     "locked": false,
     "schema_version": 3,
     "solution": true,
     "task": false
    }
   },
   "outputs": [],
   "source": [
    "# 4c\n",
    "# YOUR CODE HERE\n",
    "raise NotImplementedError()"
   ]
  },
  {
   "cell_type": "markdown",
   "id": "bf6b010b-f345-40ae-ba0f-544e30afe85b",
   "metadata": {
    "deletable": false,
    "editable": false,
    "nbgrader": {
     "cell_type": "markdown",
     "checksum": "941466db59f3d32730e98de4a6c4754f",
     "grade": false,
     "grade_id": "cell-5ead16ae3d7b5497",
     "locked": true,
     "schema_version": 3,
     "solution": false,
     "task": false
    },
    "tags": []
   },
   "source": [
    "## Problem 4d (5 pt):\n",
    "Let's define the error in the orthonormalisation of $\\pmb{Q}$ as the **norm** of $\\pmb{I-Q^TQ}$, where $\\pmb{I}$ is the identity matrix.\n",
    "- Write a function ```orthoerror(Q)``` that returns that error for any orthogonal matrix $\\pmb{Q}$ passed as an argument. \n",
    "- Compute and plot (on the same graph) the errors for the two methods ```qrdec``` and ```qrdecmod``` as a function of the dimension $k \\times k$ of the matrix $\\pmb{A}$. Use again ```testcreate(k, 21)``` to create the matrices $\\pmb{A}$. Take $k = 2,4,8,16,32,64, 128$. Label the plot properly."
   ]
  },
  {
   "cell_type": "code",
   "execution_count": null,
   "id": "e73f190e-cff0-447b-9188-cb5a0e3cd7bb",
   "metadata": {
    "deletable": false,
    "nbgrader": {
     "cell_type": "code",
     "checksum": "72518c7b6414c317458e9a2a723005e5",
     "grade": false,
     "grade_id": "cell-00a0e98a864708a8",
     "locked": false,
     "schema_version": 3,
     "solution": true,
     "task": false
    }
   },
   "outputs": [],
   "source": [
    "# 4d\n",
    "# norm -> np.linalg.norm\n",
    "# Range of sizes of the matrix A\n",
    "k = np.array((2, 4, 8, 16, 32, 64, 128))\n",
    "\n",
    "# YOUR CODE HERE\n",
    "raise NotImplementedError()"
   ]
  },
  {
   "cell_type": "markdown",
   "id": "02e5eeee-d62b-48bf-8896-29c556e80ca4",
   "metadata": {
    "deletable": false,
    "editable": false,
    "nbgrader": {
     "cell_type": "markdown",
     "checksum": "70f6ded47c48099df1c23f7fa3dcd1fc",
     "grade": false,
     "grade_id": "cell-c970d455d2b32efb",
     "locked": true,
     "schema_version": 3,
     "solution": false,
     "task": false
    },
    "tags": []
   },
   "source": [
    "# Problem 5: Root finding (4 pt)\n",
    "\n",
    "Find **all** the roots for the polynomial function:\n",
    "\n",
    "\\begin{equation}\n",
    "P(x) = 23 x^6 + 2 x^5 - 13 x^3 + 20 x^2 - 11,\n",
    "\\end{equation}"
   ]
  },
  {
   "cell_type": "code",
   "execution_count": null,
   "id": "fa36c097-d418-46f2-9974-67f4c069ea5c",
   "metadata": {
    "deletable": false,
    "nbgrader": {
     "cell_type": "code",
     "checksum": "fb548209abe55c66a6bf67cd666e9666",
     "grade": false,
     "grade_id": "cell-5e42bfc234c83c6a",
     "locked": false,
     "schema_version": 3,
     "solution": true,
     "task": false
    }
   },
   "outputs": [],
   "source": [
    "# YOUR CODE HERE\n",
    "raise NotImplementedError()"
   ]
  },
  {
   "cell_type": "markdown",
   "id": "130f277b-614d-4539-97f7-9ae07573cd6b",
   "metadata": {
    "deletable": false,
    "editable": false,
    "nbgrader": {
     "cell_type": "markdown",
     "checksum": "fb1128854cbdce949e9db10b7be851df",
     "grade": false,
     "grade_id": "cell-7742988f6553ba06",
     "locked": true,
     "schema_version": 3,
     "solution": false,
     "task": false
    },
    "tags": []
   },
   "source": [
    "# Problem 6: Numerical Integration\n",
    "\n",
    "Here, you will use two different methods of numerical integration to calculate the value of $\\pi$ with a precision of $10^{-4}$. *You are not allowed to hardcode the value of $\\pi$ or use the python definitions!!*\n",
    "\n",
    "## Problem 6a: Simpson method (6 pt)\n",
    "First do this using the Simpson method.\n",
    "- Choose and define a function for which you know the integral contains $\\pi$.\n",
    "- Include a plot of  your function with the bounds of the integral you are going to use.\n",
    "- Define the Simpson method, use adaptive integration (so increasingly higher number of panels $N$ which is the equivalent of smaller values of $h$) and use, for the stopping criteria, $\\epsilon=10^{-4}$ (adaptive integration and the behaviour of $\\epsilon_N$ for Simpson's rule are given in section 3 of the lecture notebook). Start with $N=1$.\n"
   ]
  },
  {
   "cell_type": "code",
   "execution_count": null,
   "id": "4417fe3b-c357-47d6-9fd2-8a5938000638",
   "metadata": {
    "deletable": false,
    "nbgrader": {
     "cell_type": "code",
     "checksum": "dc021a91b3738ade615b6f8a504da8a3",
     "grade": false,
     "grade_id": "cell-bbb17c158d7116d2",
     "locked": false,
     "schema_version": 3,
     "solution": true,
     "task": false
    }
   },
   "outputs": [],
   "source": [
    "# YOUR CODE HERE\n",
    "raise NotImplementedError()"
   ]
  },
  {
   "cell_type": "markdown",
   "id": "0d1d01a2-6d5a-4f83-b11e-098bcdbf604a",
   "metadata": {
    "deletable": false,
    "editable": false,
    "nbgrader": {
     "cell_type": "markdown",
     "checksum": "e156dc3db84f127c5ca22dc9f5c4b483",
     "grade": false,
     "grade_id": "cell-485b3047d198611d",
     "locked": true,
     "schema_version": 3,
     "solution": false,
     "task": false
    }
   },
   "source": [
    "## Problem 6b: Monte Carlo method (4 pt)\n",
    "\n",
    "Now also solve for $\\pi$ using a Monte Carlo method.\n",
    "- Use the same function you defined before.\n",
    "- Define a function called *montecarlo* uses your function and, the integration interval and the number of Monte Carlo samples as an input. Then use *np.random.seed* and *np.random.uniform* to determine the random sampling of your function and calculate the integral, and the associated error, as described in the lecture notes.\n",
    "- Increase the number of Monte Carlo samples until the error $<10^{-4}$.\n"
   ]
  },
  {
   "cell_type": "code",
   "execution_count": null,
   "id": "1de6784d-2418-4b47-8c0b-d757f88743a3",
   "metadata": {
    "deletable": false,
    "nbgrader": {
     "cell_type": "code",
     "checksum": "bc69103cbd40894ff41b1d5e6175a0f8",
     "grade": false,
     "grade_id": "cell-d98a585d05d15d40",
     "locked": false,
     "schema_version": 3,
     "solution": true,
     "task": false
    }
   },
   "outputs": [],
   "source": [
    "# YOUR CODE HERE\n",
    "raise NotImplementedError()"
   ]
  },
  {
   "cell_type": "markdown",
   "id": "bd6f9f0a-2661-4deb-b464-cf7b74f51cdf",
   "metadata": {
    "deletable": false,
    "editable": false,
    "nbgrader": {
     "cell_type": "markdown",
     "checksum": "85443c89670f0ff97e64f44ac3328582",
     "grade": false,
     "grade_id": "cell-281c6a89d507ad53",
     "locked": true,
     "schema_version": 3,
     "solution": false,
     "task": false
    }
   },
   "source": [
    "# Problem 7: Approximation and Interpolation\n",
    "\n",
    "This problem deals with the free fall of objects (see [Wikipedia](https://en.wikipedia.org/wiki/Free_fall)).\n",
    "\n",
    "We have the following equation of motion for a body falling in air:\n",
    "\n",
    "$$m \\frac{dv}{dt} = mg - \\frac{1}{2}\\rho C_D A v^2$$\n",
    "\n",
    "where $\\rho$ is the air density and $C_D$ is the drag coefficient, here assumed to be constant.\n",
    "\n",
    "The final velocity obtained is given by\n",
    "\n",
    "$$v_\\infty = \\sqrt{\\frac{2mg}{\\rho C_D A}}$$\n",
    "\n",
    "So that the above equation can be written (noting that $\\frac{dv}{dt} = a$):\n",
    "\n",
    "$$a = g - \\frac{g}{v_\\infty^2} v^2$$\n",
    "\n",
    "which describes the the acceleration $a$ as a polynomial in $v$, with coefficients $[-\\frac{g}{v_\\infty^2}, 0, g]$.\n",
    "\n",
    "Let's produce some simulated data. \n",
    "\n",
    "> I use the equations which can be found on the Wikipedia link given in the\n",
    "> cell above."
   ]
  },
  {
   "cell_type": "code",
   "execution_count": null,
   "id": "527fa60b-3cc7-48fd-b9de-a60fe810321d",
   "metadata": {
    "deletable": false,
    "editable": false,
    "nbgrader": {
     "cell_type": "code",
     "checksum": "005c6e7bd71048a40c4ec4b728a022bd",
     "grade": false,
     "grade_id": "cell-f8400932db0f8fec",
     "locked": true,
     "schema_version": 3,
     "solution": false,
     "task": false
    },
    "tags": []
   },
   "outputs": [],
   "source": [
    "# just run this cell\n",
    "\n",
    "# cover the first 50 seconds\n",
    "N = 50\n",
    "t = np.linspace(0.0, 20.0, N)\n",
    "\n",
    "# the gravitational accelartion on Earth\n",
    "g_true = 9.81\n",
    "\n",
    "# the final velocity, which we will try to recover below\n",
    "v_f_true = 56\n",
    "\n",
    "# the resulting velocity profile\n",
    "v = v_f_true * np.tanh(g_true*t/v_f_true)\n",
    "\n",
    "# the resulting net acceleration with added noise\n",
    "a = g_true - g_true*(v/v_f_true)**2 + 0.2*np.random.randn(N)"
   ]
  },
  {
   "cell_type": "markdown",
   "id": "29402e86-21fd-4b1d-9a12-2537ba9b2edd",
   "metadata": {
    "deletable": false,
    "editable": false,
    "nbgrader": {
     "cell_type": "markdown",
     "checksum": "333e61cb64c29f892b2c7b16d7af7e14",
     "grade": false,
     "grade_id": "cell-015c424e3049df1c",
     "locked": true,
     "schema_version": 3,
     "solution": false,
     "task": false
    }
   },
   "source": [
    "## Problem 7a (3 pt)\n",
    "\n",
    "Produce a plot with two subplots, showing `v` and `a` against `t`, respectively. Add labels and legends."
   ]
  },
  {
   "cell_type": "code",
   "execution_count": null,
   "id": "a0852ad3-4394-418f-843a-7a630da6560d",
   "metadata": {
    "deletable": false,
    "nbgrader": {
     "cell_type": "code",
     "checksum": "429bf6199619dbc5b33b0ec364de12bc",
     "grade": false,
     "grade_id": "cell-a7278226fd6435cb",
     "locked": false,
     "schema_version": 3,
     "solution": true,
     "task": false
    }
   },
   "outputs": [],
   "source": [
    "# YOUR CODE HERE\n",
    "raise NotImplementedError()"
   ]
  },
  {
   "cell_type": "markdown",
   "id": "b8907d65-4ada-492b-9a7b-cb49006f5d09",
   "metadata": {
    "deletable": false,
    "editable": false,
    "nbgrader": {
     "cell_type": "markdown",
     "checksum": "de2190a46bb2b5b3a5f1eb4ed4244098",
     "grade": false,
     "grade_id": "cell-b7eb00e3d2438ab8",
     "locked": true,
     "schema_version": 3,
     "solution": false,
     "task": false
    }
   },
   "source": [
    "## Problem 7b (5 pt)\n",
    "\n",
    "We want to fit\n",
    "\n",
    "$$a_i = c_0 + c_1 \\cdot v_i^2 \\quad {\\rm for} \\quad i = 0 \\dots N-1$$\n",
    "\n",
    "Set up the design matrix $\\mathbf{D}$ for this problem, which here will be like a Vandermonde matrix, but with\n",
    "the column for the first order of $v$ missing.\n",
    "\n",
    "$$\\mathbf{D} = \\begin{pmatrix}\n",
    "1 & v_0^2 \\\\\n",
    "1 & v_1^2 \\\\\n",
    "\\vdots & \\vdots \\\\\n",
    "1 & v_{N-1}^2 \\\\\n",
    "\\end{pmatrix}$$\n",
    "\n",
    "Construct the matrix $\\mathbf{A} = \\mathbf{D}^\\mathbf{T} \\mathbf{D}$ and the vector $b = \\mathbf{V}^\\mathbf{T} a$\n",
    "and solve (e.g. by using `np.linalg.solve`) the set of linear equations given by\n",
    "\n",
    "$$\\mathbf{A} c = b$$\n",
    "\n",
    "which will give you the vector $c$ with two components $c_0$ and $c_1$. \n",
    "\n",
    "We expect $c_0$ to give us the gravitational acceleration $g$ and $c_1$ to give us $-\\frac{g}{v_\\infty^2}$."
   ]
  },
  {
   "cell_type": "code",
   "execution_count": null,
   "id": "a3b92ba1-2148-4685-953b-37c86ebea06b",
   "metadata": {
    "deletable": false,
    "nbgrader": {
     "cell_type": "code",
     "checksum": "a1134144c3e23f8293734dd511bf7c68",
     "grade": false,
     "grade_id": "cell-63ad4939d85ca3a8",
     "locked": false,
     "schema_version": 3,
     "solution": true,
     "task": false
    }
   },
   "outputs": [],
   "source": [
    "# Calculate design matrix D\n",
    "# D = ...\n",
    "\n",
    "# calculate matrix A and right hand side b, using D\n",
    "# A = \n",
    "# b = \n",
    "\n",
    "# solve system A * c = b for c\n",
    "# c = ...           \n",
    "\n",
    "# YOUR CODE HERE\n",
    "raise NotImplementedError()"
   ]
  },
  {
   "cell_type": "markdown",
   "id": "669f85fd-f078-4831-bfd5-0e8733dffc67",
   "metadata": {
    "deletable": false,
    "editable": false,
    "nbgrader": {
     "cell_type": "markdown",
     "checksum": "23888ae7c539ef46c1f84b796484b1af",
     "grade": false,
     "grade_id": "cell-fdd8e8a60f59148c",
     "locked": true,
     "schema_version": 3,
     "solution": false,
     "task": false
    }
   },
   "source": [
    "## Problem 7c (3 pt)\n",
    "\n",
    "Now, given the coefficients, calculate $g$ and $v_\\infty$ and compare with the *true* values used in the simulation \n",
    "of the data above, namely $g = 9.81 \\frac{m}{s^2}$ and $v_\\infty = 56 \\frac{m}{s}$.\n",
    "\n",
    "Calculate the deviations in percent between the values determined from the fit and the *true* values."
   ]
  },
  {
   "cell_type": "code",
   "execution_count": null,
   "id": "7ea0c8b1-6c85-4149-9eea-b35d70393e1f",
   "metadata": {
    "deletable": false,
    "nbgrader": {
     "cell_type": "code",
     "checksum": "d427b46579bd2bbc8f9ea54815f333fc",
     "grade": false,
     "grade_id": "cell-cc7789e3e59dfa8d",
     "locked": false,
     "schema_version": 3,
     "solution": true,
     "task": false
    }
   },
   "outputs": [],
   "source": [
    "# YOUR CODE HERE\n",
    "raise NotImplementedError()\n"
   ]
  },
  {
   "cell_type": "markdown",
   "id": "cb8ce195-300a-4c5a-b7f1-af4b1220c462",
   "metadata": {
    "deletable": false,
    "editable": false,
    "nbgrader": {
     "cell_type": "markdown",
     "checksum": "42bec529d833545877c563b5b6faf19b",
     "grade": false,
     "grade_id": "cell-69c21862ae600f09",
     "locked": true,
     "schema_version": 3,
     "solution": false,
     "task": false
    }
   },
   "source": [
    "## Problem 7d (3 pt)\n",
    "\n",
    "Reproduce the plot from above, but now add the fitted acceleration profile to the plot."
   ]
  },
  {
   "cell_type": "code",
   "execution_count": null,
   "id": "7c1fd614-f0a0-42b6-b83d-aba6d950e7b2",
   "metadata": {
    "deletable": false,
    "nbgrader": {
     "cell_type": "code",
     "checksum": "62fa5ef0317b7317245419305db23c29",
     "grade": false,
     "grade_id": "cell-92b4e2dde416375d",
     "locked": false,
     "schema_version": 3,
     "solution": true,
     "task": false
    }
   },
   "outputs": [],
   "source": [
    "# YOUR CODE HERE\n",
    "raise NotImplementedError()"
   ]
  },
  {
   "cell_type": "markdown",
   "id": "3de8efbf-69f5-42f2-a184-88d9a35a2d70",
   "metadata": {
    "deletable": false,
    "editable": false,
    "nbgrader": {
     "cell_type": "markdown",
     "checksum": "e74433d64a588c265caa7fdf8f9f4968",
     "grade": false,
     "grade_id": "cell-8a7c8c910986d36f",
     "locked": true,
     "schema_version": 3,
     "solution": false,
     "task": false
    },
    "tags": []
   },
   "source": [
    "# Problem 8: Ordinary differential equations - Initial value problem\n",
    "\n",
    "## Problem 8a (3 pt):\n",
    "Define and use the backward Euler method to solve the following Riccati's equation:\n",
    "$$\n",
    "y'(x) = -\\frac{30}{1-x^2} + \\frac{2x}{1-x^2}y(x) - y^2(x), \\quad y(0.05) = 19.53\n",
    "$$\n",
    "for $x$ ranging from $0.05$ to $0.49$ with $n=12$ steps.\n",
    "As we've seen in the lecture, the backward Euler method implies to solve $y_{j+1} = y_j + hf(x_{j+1} , y_{j+1} )$, where $y_{j+1}$ is a root that must be found at each iteration (use any method you like)."
   ]
  },
  {
   "cell_type": "code",
   "execution_count": null,
   "id": "c09a5885-baa7-4511-90c5-2b71f12b88ce",
   "metadata": {
    "deletable": false,
    "nbgrader": {
     "cell_type": "code",
     "checksum": "322e4fd6c47e71ef5fc38bdd68ba7c9a",
     "grade": false,
     "grade_id": "cell-df4d2a45af76bb5b",
     "locked": false,
     "schema_version": 3,
     "solution": true,
     "task": false
    }
   },
   "outputs": [],
   "source": [
    "# YOUR CODE HERE\n",
    "raise NotImplementedError()"
   ]
  },
  {
   "cell_type": "markdown",
   "id": "6b94b59b-6c28-4e82-beed-b0b8a7443dcc",
   "metadata": {
    "deletable": false,
    "editable": false,
    "nbgrader": {
     "cell_type": "markdown",
     "checksum": "6de958b6b6433984f1494340923722d0",
     "grade": false,
     "grade_id": "cell-a125f37242e81741",
     "locked": true,
     "schema_version": 3,
     "solution": false,
     "task": false
    },
    "tags": []
   },
   "source": [
    "## Problem 8b (4 pt):\n",
    "Then solve again the equation, but with:\n",
    "- RK4 (as seen in the lecture)\n",
    "- the `odeint` function that you can import from `scipy.integrate`. Look at Scipy documentation for using that function. Use a finer resolution for the x axis (more $x$ values between 0.5 and 0.49, see `np.linspace` to create the $x$ values)"
   ]
  },
  {
   "cell_type": "code",
   "execution_count": null,
   "id": "eb375705-29fb-4994-9b7e-dc5b2bfe4bb9",
   "metadata": {
    "deletable": false,
    "nbgrader": {
     "cell_type": "code",
     "checksum": "22fa22280a99278c403d768482526eaa",
     "grade": false,
     "grade_id": "cell-46ae450e2b719a8e",
     "locked": false,
     "schema_version": 3,
     "solution": true,
     "task": false
    }
   },
   "outputs": [],
   "source": [
    "# YOUR CODE HERE\n",
    "raise NotImplementedError()"
   ]
  },
  {
   "cell_type": "markdown",
   "id": "6f80e3fb-ee98-497a-aafe-bfe075778c10",
   "metadata": {
    "deletable": false,
    "editable": false,
    "nbgrader": {
     "cell_type": "markdown",
     "checksum": "8a87a8799ad506358e2d84f37838987d",
     "grade": false,
     "grade_id": "cell-07b30cdb61bb82d2",
     "locked": true,
     "schema_version": 3,
     "solution": false,
     "task": false
    }
   },
   "source": [
    "## Problem 8c (3 pt):\n",
    "Finally, plot the results $y(x)$ of each method on the same graph and label them accordingly."
   ]
  },
  {
   "cell_type": "code",
   "execution_count": null,
   "id": "375358c0-cd49-4df1-a028-223789f9948e",
   "metadata": {
    "deletable": false,
    "nbgrader": {
     "cell_type": "code",
     "checksum": "1b34221961f54b698d49c74f236e4f32",
     "grade": false,
     "grade_id": "cell-a08494287821ed1d",
     "locked": false,
     "schema_version": 3,
     "solution": true,
     "task": false
    }
   },
   "outputs": [],
   "source": [
    "# YOUR CODE HERE\n",
    "raise NotImplementedError()"
   ]
  },
  {
   "cell_type": "markdown",
   "id": "2c06fe7c-d255-4fc1-bf34-d03998e248f9",
   "metadata": {
    "deletable": false,
    "editable": false,
    "nbgrader": {
     "cell_type": "markdown",
     "checksum": "8fc753b616dffe73f05e3ad89797134b",
     "grade": false,
     "grade_id": "cell-f779913c7266abc8",
     "locked": true,
     "schema_version": 3,
     "solution": false,
     "task": false
    }
   },
   "source": [
    "# Problem 9: Simultaneous differential equations\n",
    "\n",
    "The __[Lotka–Volterra equations](https://en.wikipedia.org/wiki/Lotka%E2%80%93Volterra_equations)__, also known as the **predator–prey equations**, are a pair of first-order nonlinear differential equations, frequently used to describe the dynamics of biological systems in which two species interact, one as a predator and the other as prey.\n",
    "\n",
    "Let's say $x(t)$ and $y(t)$ are the prey and predator populations, respectively, as a function of time. The model is a set of two simultaneous differential equations, defined as:\n",
    "$$\n",
    "x'(t) = \\alpha x - \\beta xy \\\\\n",
    "y'(t) = -\\gamma y + \\delta xy \n",
    "$$\n",
    "where primes denote derivative to time $t$ and $\\alpha, \\beta, \\gamma, \\delta$ are constants.\n",
    "\n",
    "## Problem 9a (5 pt)\n",
    "- Use RK4 to solve this system for $t=0$ to $100$ and $\\alpha=0.1, \\beta=0.01, \\gamma=0.5, \\delta=0.01$ and the initial conditions $x(0) = 60, y(0) = 20$. Use a rather large amount of steps, e.g. $n=200$.\n",
    "- Then plot $x(t)$ and $y(t)$ on the same graph. Label the plot properly."
   ]
  },
  {
   "cell_type": "code",
   "execution_count": null,
   "id": "5630eb07-2c1f-4946-a8de-3a8d19594771",
   "metadata": {
    "deletable": false,
    "nbgrader": {
     "cell_type": "code",
     "checksum": "390b5d600bfb46e5dd6b36d9acf0a5e0",
     "grade": false,
     "grade_id": "cell-856757a0b0b7bb47",
     "locked": false,
     "schema_version": 3,
     "solution": true,
     "task": false
    }
   },
   "outputs": [],
   "source": [
    "# YOUR CODE HERE\n",
    "raise NotImplementedError()"
   ]
  },
  {
   "cell_type": "markdown",
   "id": "0fd9800b-76c0-424b-8c48-df7c3042b41c",
   "metadata": {
    "deletable": false,
    "editable": false,
    "nbgrader": {
     "cell_type": "markdown",
     "checksum": "12a657f294ebc8143eae5b0e0c2be5d6",
     "grade": false,
     "grade_id": "cell-346c62c7dda4ed41",
     "locked": true,
     "schema_version": 3,
     "solution": false,
     "task": false
    },
    "tags": []
   },
   "source": [
    "## Problem 9b (3pt)\n",
    "\n",
    "If you haven't already, take some time to understand the concrete physical meaning of this system of equations, for both the prey and predator populations (no need to write anything). Then modify some of the parameters ($\\alpha, \\beta, \\gamma, \\delta$) to simulate an unbalanced ecosystem over the same time period $t=0$ to $100$. \n",
    "\n",
    "Plot again $x(t)$ and $y(t)$ for your new system. Label the plot properly."
   ]
  },
  {
   "cell_type": "code",
   "execution_count": null,
   "id": "4846db63-60b0-4405-86ef-211da0146ce6",
   "metadata": {
    "deletable": false,
    "nbgrader": {
     "cell_type": "code",
     "checksum": "38b8981d272e8bb2f55813cf65495dac",
     "grade": false,
     "grade_id": "cell-a6b5c35a13f1a63b",
     "locked": false,
     "schema_version": 3,
     "solution": true,
     "task": false
    }
   },
   "outputs": [],
   "source": [
    "# YOUR CODE HERE\n",
    "raise NotImplementedError()"
   ]
  }
 ],
 "metadata": {
  "kernelspec": {
   "display_name": "Python 3 (ipykernel)",
   "language": "python",
   "name": "python3"
  },
  "language_info": {
   "codemirror_mode": {
    "name": "ipython",
    "version": 3
   },
   "file_extension": ".py",
   "mimetype": "text/x-python",
   "name": "python",
   "nbconvert_exporter": "python",
   "pygments_lexer": "ipython3",
   "version": "3.8.15"
  }
 },
 "nbformat": 4,
 "nbformat_minor": 5
}
